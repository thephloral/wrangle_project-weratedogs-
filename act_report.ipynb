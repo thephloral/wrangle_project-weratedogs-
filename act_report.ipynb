{
 "cells": [
  {
   "cell_type": "markdown",
   "id": "e36663d2",
   "metadata": {},
   "source": [
    "Create a **250-word-minimum written report** called \"act_report.pdf\" or \"act_report.html\" that communicates the insights and displays the visualization(s) produced from your wrangles data. This is to be framed as an external document, like a blog post or magazine article, for example."
   ]
  },
  {
   "cell_type": "markdown",
   "id": "a7dcc5a6",
   "metadata": {},
   "source": [
    "This act_report is the summary of the Analysis process from the data wrangling project.\n",
    "\n",
    "In this project, I worked with three datasets.\n",
    "\n",
    "- A csv file provided by Udacity and was downloaded manually.\n",
    "\n",
    "- A tsv file hosted on Udacity server. I programmatically downloaded the file\n",
    "\n",
    "- A json file provided in the project folder. I used the json file because I wasn't granted access by twitter to scrape using the api.\n",
    "\n",
    "\n",
    "I assessed all three dataset, and found both quality and tidiness issue. And cleaned using pandas method.\n",
    "\n",
    "I made some analysis to produce insights and visualizations."
   ]
  },
  {
   "cell_type": "markdown",
   "id": "40572aa0",
   "metadata": {},
   "source": [
    "- Note:\n",
    "\n",
    "    Completed this in a pdf file"
   ]
  },
  {
   "cell_type": "code",
   "execution_count": null,
   "id": "59e63f5f",
   "metadata": {},
   "outputs": [],
   "source": []
  }
 ],
 "metadata": {
  "kernelspec": {
   "display_name": "Python 3 (ipykernel)",
   "language": "python",
   "name": "python3"
  },
  "language_info": {
   "codemirror_mode": {
    "name": "ipython",
    "version": 3
   },
   "file_extension": ".py",
   "mimetype": "text/x-python",
   "name": "python",
   "nbconvert_exporter": "python",
   "pygments_lexer": "ipython3",
   "version": "3.10.0"
  }
 },
 "nbformat": 4,
 "nbformat_minor": 5
}
