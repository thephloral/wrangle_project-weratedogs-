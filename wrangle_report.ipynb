{
 "cells": [
  {
   "cell_type": "markdown",
   "id": "9c675283",
   "metadata": {},
   "source": [
    "Create a **300-600 word written report** called wrangle_report.pdf or wrangle_report.html that briefly describes your wrangling efforts. This is to be framed as an internal document."
   ]
  },
  {
   "cell_type": "markdown",
   "id": "b13ef58e",
   "metadata": {},
   "source": [
    "In this project, I applied all I learnt from the lessons in Data Wrangling. I gathered data from different sources, assessed its quality and tidiness using both visual method and programmatical method, thereafter, I cleaned it. From the cleaned dataset, I produced insights and visualizations. Below is the summary of the Gather, Assess, Clean, Analyze and Visualization steps I went through:"
   ]
  },
  {
   "cell_type": "markdown",
   "id": "d8d6abba",
   "metadata": {},
   "source": [
    "- Gathering:\n",
    "\n",
    "twitter_archive.csv: A csv file was provided which i downloaded.\n",
    "\n",
    "image_prediction.tsv: A link to a tsv file was also which I programmatically downloaded\n",
    "\n",
    "tweet_json: A json file provided in the project folder. I used the json file because I wasn't granted access by twitter to scrape using the api. "
   ]
  },
  {
   "cell_type": "markdown",
   "id": "8f76ae15",
   "metadata": {},
   "source": [
    "- Assessment:\n",
    "\n",
    "    I assessed the dataset to detect the quality issues and tidiness issues, and documented it.\n",
    "\n",
    "- Quality issues\n",
    "\n",
    "1. Validity Issue\n",
    "\n",
    " - Erroneous data type (timestamp datatype is in str instead of a datetime)\n",
    "\n",
    " - Erroneous data type (tweet id column is in int instead of string)\n",
    " \n",
    " - Erroneous data type (id column is in int instead of string)\n",
    "\n",
    " - Erroneous data type (tweet id column is in int instead of string)\n",
    "\n",
    "\n",
    "2. Completeness Issue\n",
    "\n",
    " - Missing data (in_reply_to_status_id and in_reply_to_user_id, expanded_url)\n",
    "\n",
    " - Incomplete data ('retweeted_status_id, retweeted_status_user _id, retweeted_status _timestamp)\n",
    "\n",
    " - 2 denominator has 0 rating and 2 numerator has 0 rating\n",
    "\n",
    " - Missing data (followers_count column, friends_count, geo, coordinates, contributors columns contains no value and  place column   has only one value).\n",
    "\n",
    "\n",
    "3. Accuracy Issue\n",
    "\n",
    " - Inaccurate name in name column\n",
    "\n",
    "\n",
    "4. Consistency Issue\n",
    "\n",
    " - Values in columns 'p1', 'p2', and 'p3' don't have consistent format.\n",
    "\n",
    "\n",
    "- Tidiness Issue\n",
    "\n",
    " - doggo, puppo, pupper, fluffer (all mean the same i.e dog)\n",
    "\n",
    " - The column label for tweet IDs should be the same across the three datasets.\n",
    "\n",
    " - The three tables should be combined as one single dataset\n"
   ]
  },
  {
   "cell_type": "markdown",
   "id": "138b8112",
   "metadata": {},
   "source": [
    "- Cleaning\n",
    "\n",
    "    Cleaning is usually done to fix the issues identified during assessment using codes. For each issue, i carefully defined, ran codes to fix the issue and test to confirm that it worked. Finally, combined the three datasets into a single table, and stored it to a csv file.\n"
   ]
  },
  {
   "cell_type": "markdown",
   "id": "87f2dd12",
   "metadata": {},
   "source": [
    "- Analyzing and Visualization\n",
    "\n",
    "    Exploratory analysis was done to uncover features and create analytical demonstration of findings. Visualization was done to understand the data and communicate the story.\n"
   ]
  },
  {
   "cell_type": "markdown",
   "id": "b5d9ede2",
   "metadata": {},
   "source": [
    "#### My insights are:\n",
    "\n",
    "- The correlation between favorite_count and retweet_count is positive\n",
    "- iPhones has the most engagement source\n",
    "- Pupper is the most liked dog\n",
    "- Distribution for the image number is normal\n",
    "- The minimum rating numerator is 1"
   ]
  },
  {
   "cell_type": "code",
   "execution_count": null,
   "id": "da0ead16",
   "metadata": {},
   "outputs": [],
   "source": []
  }
 ],
 "metadata": {
  "kernelspec": {
   "display_name": "Python 3 (ipykernel)",
   "language": "python",
   "name": "python3"
  },
  "language_info": {
   "codemirror_mode": {
    "name": "ipython",
    "version": 3
   },
   "file_extension": ".py",
   "mimetype": "text/x-python",
   "name": "python",
   "nbconvert_exporter": "python",
   "pygments_lexer": "ipython3",
   "version": "3.10.0"
  }
 },
 "nbformat": 4,
 "nbformat_minor": 5
}
